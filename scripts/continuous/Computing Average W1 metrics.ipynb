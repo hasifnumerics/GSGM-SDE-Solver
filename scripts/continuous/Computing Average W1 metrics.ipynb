{
 "cells": [
  {
   "cell_type": "code",
   "execution_count": 1,
   "metadata": {},
   "outputs": [
    {
     "name": "stdout",
     "output_type": "stream",
     "text": [
      "Method with minimal average W1 metrics for each metric: {'g': '0165EM300', 'q': '0165EM300', 't': 'ODESampler', 'w': '0165EM300', 'z': 'ODESampler'}\n"
     ]
    }
   ],
   "source": [
    "# Data for ODESampler300 W1M, W1P, and W1EFP metrics (including error margins)\n",
    "odesampler300_w1m_data = {\n",
    "    'g': (0.0014155570230988729, 0.00014659802183516747),\n",
    "    'q': (0.0011234280169046054, 9.23680500218415e-05),\n",
    "    't': (0.0014816349347900703, 7.992457618115757e-05),\n",
    "    'w': (0.002087156630058283, 3.423270152679024e-05),\n",
    "    'z': (0.002023658049935535, 2.6514449595234733e-05)\n",
    "}\n",
    "\n",
    "odesampler300_w1p_data = {\n",
    "    'g': (0.000815044636100357, 4.0271435198090965e-05),\n",
    "    'q': (0.0008963117083378796, 4.123192038809405e-05),\n",
    "    't': (0.0009714843727457557, 6.129753305030764e-05),\n",
    "    'w': (0.0005234970234776684, 4.5856296425033326e-05),\n",
    "    'z': (0.00048299915230502077, 6.736992387714959e-05)\n",
    "}\n",
    "\n",
    "odesampler300_w1efp_data = {\n",
    "    'g': (1.127895048440187e-05, 6.161180162313571e-07),\n",
    "    'q': (7.872941759533101e-06, 8.601017507348714e-07),\n",
    "    't': (4.675731335938606e-05, 2.1381130469462154e-06),\n",
    "    'w': (9.319047080392673e-06, 1.6988957580152408e-07),\n",
    "    'z': (1.2020925267133365e-05, 3.763368449139878e-07)\n",
    "}\n",
    "\n",
    "# Data for 0165EM300 W1M, W1P, and W1EFP metrics (including error margins)\n",
    "em300_w1m_data = {\n",
    "    'g': (0.001403605443590545, 0.00011667318235464645),\n",
    "    'q': (0.0009991518513326836, 0.00012176187319229889),\n",
    "    't': (0.0018781866775683866, 6.1005202888459806e-05),\n",
    "    'w': (0.0019744574931261794, 3.348063006382454e-05),\n",
    "    'z': (0.002069105304558719, 2.489292533675091e-05)\n",
    "}\n",
    "\n",
    "em300_w1p_data = {\n",
    "    'g': (0.0010289983666459284, 0.00010869292910296821),\n",
    "    'q': (0.001108022899857159, 6.198842808567939e-05),\n",
    "    't': (0.0005442816613226729, 5.387657314369928e-05),\n",
    "    'w': (0.0005415350602378846, 6.388272272815964e-05),\n",
    "    'z': (0.0004945822849443555, 6.0310358600807865e-05)\n",
    "}\n",
    "\n",
    "em300_w1efp_data = {\n",
    "    'g': (1.57636040530259e-05, 1.8028268094455538e-06),\n",
    "    'q': (8.613286290017662e-06, 9.475761936132514e-07),\n",
    "    't': (5.31638090659777e-05, 1.3626388971058807e-06),\n",
    "    'w': (7.5767935441358636e-06, 3.3003509377681375e-07),\n",
    "    'z': (1.082596518032922e-05, 2.9667965440572793e-07)\n",
    "}\n",
    "\n",
    "# Calculate the average W1 metrics for each method and each metric\n",
    "def average_w1(metrics_data):\n",
    "    particle_metrics = {}\n",
    "    for metric, value in metrics_data.items():\n",
    "        if metric not in particle_metrics:\n",
    "            particle_metrics[metric] = []\n",
    "        particle_metrics[metric].append(value[0])\n",
    "\n",
    "    average_metrics = {}\n",
    "    for metric, values in particle_metrics.items():\n",
    "        average_metrics[metric] = sum(values) / len(values)\n",
    "\n",
    "    return average_metrics\n",
    "\n",
    "odesampler300_average_w1m = average_w1(odesampler300_w1m_data)\n",
    "odesampler300_average_w1p = average_w1(odesampler300_w1p_data)\n",
    "odesampler300_average_w1efp = average_w1(odesampler300_w1efp_data)\n",
    "\n",
    "em300_average_w1m = average_w1(em300_w1m_data)\n",
    "em300_average_w1p = average_w1(em300_w1p_data)\n",
    "em300_average_w1efp = average_w1(em300_w1efp_data)\n",
    "\n",
    "# Compare the average W1 metrics across all particles for each method and each metric\n",
    "methods = ['ODESampler', '0165EM300']\n",
    "\n",
    "# Find the method with the minimum average W1 metrics for each metric\n",
    "min_w1_methods = {}\n",
    "for metric in odesampler300_average_w1m.keys():\n",
    "    if odesampler300_average_w1m[metric] < em300_average_w1m[metric]:\n",
    "        min_w1_methods[metric] = methods[0]\n",
    "    else:\n",
    "        min_w1_methods[metric] = methods[1]\n",
    "\n",
    "print(\"Method with minimal average W1 metrics for each metric:\", min_w1_methods)"
   ]
  }
 ],
 "metadata": {
  "kernelspec": {
   "display_name": "MATH420",
   "language": "python",
   "name": "python3"
  },
  "language_info": {
   "codemirror_mode": {
    "name": "ipython",
    "version": 3
   },
   "file_extension": ".py",
   "mimetype": "text/x-python",
   "name": "python",
   "nbconvert_exporter": "python",
   "pygments_lexer": "ipython3",
   "version": "3.9.15"
  },
  "orig_nbformat": 4,
  "vscode": {
   "interpreter": {
    "hash": "19b73810dcafedcbea3fadce48c320cc17c41811b51a3f83b2c30c62e8a41340"
   }
  }
 },
 "nbformat": 4,
 "nbformat_minor": 2
}
